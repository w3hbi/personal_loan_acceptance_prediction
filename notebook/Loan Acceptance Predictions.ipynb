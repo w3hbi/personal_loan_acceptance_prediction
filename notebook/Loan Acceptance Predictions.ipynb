{
 "cells": [
  {
   "cell_type": "markdown",
   "metadata": {},
   "source": [
    "# Personal Loan Acceptance Predictions\n",
    "\n",
    "By using the data from the bank's previous marketing campaign, we will use machine learning to predict whether a customer will accept a personal loan offer or not.\n",
    "\n",
    "in this project, we will use the following models:\n",
    "- Logistic Regression\n",
    "- Random Forest\n",
    "- Gradient Boosting\n",
    "- Support Vector Machine\n",
    "- K-Nearest Neighbors\n",
    "\n",
    "after running all these models, we will create a voting classifier to see if we can get a better score.\n",
    "\n"
   ]
  },
  {
   "cell_type": "code",
   "execution_count": 3,
   "metadata": {},
   "outputs": [],
   "source": [
    "# read dataset ...\n",
    "import os\n",
    "import pandas as pd\n",
    "df = pd.read_csv(f'{os.getcwd()}/../data/UniversalBank.csv')"
   ]
  },
  {
   "cell_type": "markdown",
   "metadata": {},
   "source": [
    "## Data splitting\n",
    "\n",
    "We will split the data into training and testing sets. The training set will be used to train the models, and the testing set will be used to test the models."
   ]
  },
  {
   "cell_type": "code",
   "execution_count": 4,
   "metadata": {},
   "outputs": [],
   "source": [
    "df.drop(columns=['ID', 'ZIP Code'], inplace=True)"
   ]
  },
  {
   "cell_type": "markdown",
   "metadata": {},
   "source": [
    "we don't need to use `ID` & `ZIP Code` columns, so that's why i did drop them.\n",
    "\n",
    "in our case, we will use 80% of the data for training and 20% for testing."
   ]
  },
  {
   "cell_type": "code",
   "execution_count": 5,
   "metadata": {},
   "outputs": [
    {
     "data": {
      "text/html": [
       "<div>\n",
       "<style scoped>\n",
       "    .dataframe tbody tr th:only-of-type {\n",
       "        vertical-align: middle;\n",
       "    }\n",
       "\n",
       "    .dataframe tbody tr th {\n",
       "        vertical-align: top;\n",
       "    }\n",
       "\n",
       "    .dataframe thead th {\n",
       "        text-align: right;\n",
       "    }\n",
       "</style>\n",
       "<table border=\"1\" class=\"dataframe\">\n",
       "  <thead>\n",
       "    <tr style=\"text-align: right;\">\n",
       "      <th></th>\n",
       "      <th>Age</th>\n",
       "      <th>Experience</th>\n",
       "      <th>Income</th>\n",
       "      <th>Family</th>\n",
       "      <th>CCAvg</th>\n",
       "      <th>Education</th>\n",
       "      <th>Mortgage</th>\n",
       "      <th>PersonalLoan</th>\n",
       "      <th>SecuritiesAccount</th>\n",
       "      <th>CDAccount</th>\n",
       "      <th>Online</th>\n",
       "      <th>CreditCard</th>\n",
       "    </tr>\n",
       "  </thead>\n",
       "  <tbody>\n",
       "    <tr>\n",
       "      <th>0</th>\n",
       "      <td>25</td>\n",
       "      <td>1</td>\n",
       "      <td>49</td>\n",
       "      <td>4</td>\n",
       "      <td>1.6</td>\n",
       "      <td>1</td>\n",
       "      <td>0</td>\n",
       "      <td>0</td>\n",
       "      <td>1</td>\n",
       "      <td>0</td>\n",
       "      <td>0</td>\n",
       "      <td>0</td>\n",
       "    </tr>\n",
       "    <tr>\n",
       "      <th>1</th>\n",
       "      <td>45</td>\n",
       "      <td>19</td>\n",
       "      <td>34</td>\n",
       "      <td>3</td>\n",
       "      <td>1.5</td>\n",
       "      <td>1</td>\n",
       "      <td>0</td>\n",
       "      <td>0</td>\n",
       "      <td>1</td>\n",
       "      <td>0</td>\n",
       "      <td>0</td>\n",
       "      <td>0</td>\n",
       "    </tr>\n",
       "    <tr>\n",
       "      <th>2</th>\n",
       "      <td>39</td>\n",
       "      <td>15</td>\n",
       "      <td>11</td>\n",
       "      <td>1</td>\n",
       "      <td>1.0</td>\n",
       "      <td>1</td>\n",
       "      <td>0</td>\n",
       "      <td>0</td>\n",
       "      <td>0</td>\n",
       "      <td>0</td>\n",
       "      <td>0</td>\n",
       "      <td>0</td>\n",
       "    </tr>\n",
       "    <tr>\n",
       "      <th>3</th>\n",
       "      <td>35</td>\n",
       "      <td>9</td>\n",
       "      <td>100</td>\n",
       "      <td>1</td>\n",
       "      <td>2.7</td>\n",
       "      <td>2</td>\n",
       "      <td>0</td>\n",
       "      <td>0</td>\n",
       "      <td>0</td>\n",
       "      <td>0</td>\n",
       "      <td>0</td>\n",
       "      <td>0</td>\n",
       "    </tr>\n",
       "    <tr>\n",
       "      <th>4</th>\n",
       "      <td>35</td>\n",
       "      <td>8</td>\n",
       "      <td>45</td>\n",
       "      <td>4</td>\n",
       "      <td>1.0</td>\n",
       "      <td>2</td>\n",
       "      <td>0</td>\n",
       "      <td>0</td>\n",
       "      <td>0</td>\n",
       "      <td>0</td>\n",
       "      <td>0</td>\n",
       "      <td>1</td>\n",
       "    </tr>\n",
       "  </tbody>\n",
       "</table>\n",
       "</div>"
      ],
      "text/plain": [
       "   Age  Experience  Income  Family  CCAvg  Education  Mortgage  PersonalLoan  \\\n",
       "0   25           1      49       4    1.6          1         0             0   \n",
       "1   45          19      34       3    1.5          1         0             0   \n",
       "2   39          15      11       1    1.0          1         0             0   \n",
       "3   35           9     100       1    2.7          2         0             0   \n",
       "4   35           8      45       4    1.0          2         0             0   \n",
       "\n",
       "   SecuritiesAccount  CDAccount  Online  CreditCard  \n",
       "0                  1          0       0           0  \n",
       "1                  1          0       0           0  \n",
       "2                  0          0       0           0  \n",
       "3                  0          0       0           0  \n",
       "4                  0          0       0           1  "
      ]
     },
     "execution_count": 5,
     "metadata": {},
     "output_type": "execute_result"
    }
   ],
   "source": [
    "df.head()"
   ]
  },
  {
   "cell_type": "code",
   "execution_count": 7,
   "metadata": {},
   "outputs": [],
   "source": [
    "# split dataset into train and test \n",
    "from sklearn.model_selection import train_test_split\n",
    "\n",
    "X = df.drop(columns=['PersonalLoan'], axis=1) # features\n",
    "y = df['PersonalLoan'] # target variable\n",
    "\n",
    "(\n",
    "    X_train, X_test,\n",
    "    y_train, y_test\n",
    ") = train_test_split(X, y, test_size=0.2, random_state=42)\n",
    "# random_state=42 is used to get the same split every time "
   ]
  },
  {
   "cell_type": "code",
   "execution_count": 8,
   "metadata": {},
   "outputs": [
    {
     "name": "stdout",
     "output_type": "stream",
     "text": [
      "X_train shape: (4000, 11)\n",
      "X_test shape: (1000, 11)\n",
      "y_train shape: (4000,)\n",
      "y_test shape: (1000,)\n"
     ]
    }
   ],
   "source": [
    "# print the shape of train and test data\n",
    "print(f'X_train shape: {X_train.shape}')\n",
    "print(f'X_test shape: {X_test.shape}')\n",
    "print(f'y_train shape: {y_train.shape}')\n",
    "print(f'y_test shape: {y_test.shape}')  "
   ]
  },
  {
   "cell_type": "markdown",
   "metadata": {},
   "source": [
    "## Model Training\n",
    "\n",
    "We will train the models using the training data. We will use the following models:\n",
    "\n",
    "- Logistic Regression\n",
    "- Random Forest\n",
    "- Gradient Boosting\n",
    "- Support Vector Machine\n",
    "- K-Nearest Neighbors\n",
    "\n"
   ]
  },
  {
   "cell_type": "code",
   "execution_count": 29,
   "metadata": {},
   "outputs": [],
   "source": [
    "# import the necessary packages ...\n",
    "from sklearn.linear_model import LogisticRegression\n",
    "from sklearn.ensemble import RandomForestClassifier, GradientBoostingClassifier\n",
    "from sklearn.svm import SVC\n",
    "from sklearn.neighbors import KNeighborsClassifier\n",
    "\n",
    "# Initialize the models\n",
    "logistic_reg = LogisticRegression()\n",
    "random_forest = RandomForestClassifier()\n",
    "gradient_boosting = GradientBoostingClassifier()\n",
    "svm = SVC(probability=True)\n",
    "knn = KNeighborsClassifier()"
   ]
  },
  {
   "cell_type": "markdown",
   "metadata": {},
   "source": [
    "after initializing the models, we will train them using the training data."
   ]
  },
  {
   "cell_type": "code",
   "execution_count": 30,
   "metadata": {},
   "outputs": [
    {
     "data": {
      "text/plain": [
       "KNeighborsClassifier()"
      ]
     },
     "execution_count": 30,
     "metadata": {},
     "output_type": "execute_result"
    }
   ],
   "source": [
    "# train the models ...\n",
    "logistic_reg.fit(X_train, y_train)\n",
    "random_forest.fit(X_train, y_train)\n",
    "gradient_boosting.fit(X_train, y_train)\n",
    "svm.fit(X_train, y_train)\n",
    "knn.fit(X_train, y_train)"
   ]
  },
  {
   "cell_type": "markdown",
   "metadata": {},
   "source": [
    "## Model Evaluation\n",
    "\n",
    "We will evaluate the models using the testing data. We will use the following metrics:\n",
    "\n",
    "- Accuracy\n",
    "- Precision\n",
    "- Recall\n",
    "- F1 Score\n",
    "- ROC AUC Score\n"
   ]
  },
  {
   "cell_type": "code",
   "execution_count": 31,
   "metadata": {},
   "outputs": [],
   "source": [
    "from sklearn.metrics import (\n",
    "    accuracy_score,\n",
    "    precision_score,\n",
    "    recall_score,\n",
    "    f1_score,\n",
    "    roc_auc_score\n",
    ")\n",
    "\n",
    "def evaluate_model(model, X_test, y_test):\n",
    "    y_pred = model.predict(X_test)\n",
    "    accuracy = accuracy_score(y_test, y_pred)\n",
    "    precision = precision_score(y_test, y_pred)\n",
    "    recall = recall_score(y_test, y_pred)\n",
    "    f1score = f1_score(y_test, y_pred)\n",
    "    roc_auc = roc_auc_score(y_test, y_pred)\n",
    "    return accuracy, precision, recall, f1score, roc_auc"
   ]
  },
  {
   "cell_type": "code",
   "execution_count": 37,
   "metadata": {},
   "outputs": [
    {
     "name": "stdout",
     "output_type": "stream",
     "text": [
      "                     accuracy  precision    recall   f1score   roc_auc\n",
      "model                                                                 \n",
      "Logistic Regression     0.952   0.851852  0.657143  0.741935  0.821868\n",
      "Random Forest           0.989   0.979592  0.914286  0.945813  0.956026\n",
      "Gradient Boosting       0.992   0.989899  0.933333  0.960784  0.966108\n",
      "SVM                     0.900   0.727273  0.076190  0.137931  0.536419\n",
      "KNN                     0.910   0.631579  0.342857  0.444444  0.659697\n"
     ]
    }
   ],
   "source": [
    "results = []\n",
    "\n",
    "# Evaluate each model and store the results\n",
    "models = [\n",
    "    ('Logistic Regression', logistic_reg),\n",
    "    ('Random Forest', random_forest),\n",
    "    ('Gradient Boosting', gradient_boosting),\n",
    "    ('SVM', svm),\n",
    "    ('KNN', knn),\n",
    "]\n",
    "\n",
    "for model_name, model in models:\n",
    "    accuracy, precision, recall, f1score, roc_auc = evaluate_model(model, X_test, y_test)\n",
    "    results.append({\n",
    "        'model': model_name,\n",
    "        'accuracy': accuracy,\n",
    "        'precision': precision,\n",
    "        'recall': recall,\n",
    "        'f1score': f1score,\n",
    "        'roc_auc': roc_auc\n",
    "    })\n",
    "\n",
    "# convert the results into a dataframe\n",
    "results_df = pd.DataFrame(results)\n",
    "\n",
    "# create pivot tables for better visualization\n",
    "results_df.set_index('model', inplace=True)\n",
    "\n",
    "print(results_df)"
   ]
  },
  {
   "cell_type": "code",
   "execution_count": 44,
   "metadata": {},
   "outputs": [
    {
     "data": {
      "image/png": "[encoded data removed]",
      "text/plain": [
       "<Figure size 1440x2880 with 5 Axes>"
      ]
     },
     "metadata": {
      "needs_background": "light"
     },
     "output_type": "display_data"
    }
   ],
   "source": [
    "# plot the results\n",
    "import matplotlib.pyplot as plt\n",
    "import seaborn as sns\n",
    "\n",
    "fig, ax = plt.subplots(5, 1, figsize=(20, 40))\n",
    "sns.barplot(x=results_df.index, y='accuracy', data=results_df, ax=ax[0])\n",
    "sns.barplot(x=results_df.index, y='precision', data=results_df, ax=ax[1])\n",
    "sns.barplot(x=results_df.index, y='recall', data=results_df, ax=ax[2])\n",
    "sns.barplot(x=results_df.index, y='f1score', data=results_df, ax=ax[3])\n",
    "sns.barplot(x=results_df.index, y='roc_auc', data=results_df, ax=ax[4])\n",
    "\n",
    "# set the title of each plot\n",
    "ax[0].set_title('Accuracy Score of each model')\n",
    "ax[1].set_title('Precision Score of each model')\n",
    "ax[2].set_title('Recall Score of each model')\n",
    "ax[3].set_title('F1 Score of each model')\n",
    "ax[4].set_title('ROC AUC Score of each model')\n",
    " \n",
    "\n",
    "plt.show()\n"
   ]
  },
  {
   "cell_type": "markdown",
   "metadata": {},
   "source": [
    "before we start voting classifier we notice that :\n",
    "\n",
    "1. `Random Forest and Gradient Boosting`: These two models stand out with exceptionally high accuracy, precision, and F1-score. They excel at correctly classifying customers who accept personal loan offers while maintaining a high overall accuracy.\n",
    "\n",
    "2. `Logistic Regression`: It achieves a good balance between precision and recall, making it a reliable choice for classification tasks. Although it has a slightly lower recall, it provides a solid overall performance.\n",
    "\n",
    "3. `K-Nearest Neighbors (KNN)`: KNN shows reasonable accuracy but has lower precision and recall compared to Random Forest and Gradient Boosting. Further optimization might improve its performance.\n",
    "\n",
    "4. `Support Vector Machine (SVM)`: SVM exhibits a high accuracy but poor recall, which means it may struggle to identify customers who accept personal loan offers. It may require feature engineering or hyperparameter tuning.\n",
    "\n",
    "In summary, Random Forest and Gradient Boosting are the top-performing models, providing strong predictive accuracy and reliability for identifying customers likely to accept personal loan offers. These models are promising candidates for inclusion in the ensemble voting classifier.\n"
   ]
  },
  {
   "cell_type": "code",
   "execution_count": 46,
   "metadata": {},
   "outputs": [
    {
     "name": "stdout",
     "output_type": "stream",
     "text": [
      "Actual Label: 0.0\n",
      "Predicted Label: 0\n"
     ]
    }
   ],
   "source": [
    "# test the model on a single data point\n",
    "import numpy as np\n",
    "\n",
    "# select a random data point\n",
    "random_index = np.random.randint(0, len(df))\n",
    "data_point = df.iloc[random_index]\n",
    "\n",
    "# test Random Forest Classifier\n",
    "print(f'Actual Label: {data_point.PersonalLoan}')\n",
    "# drop the target variable\n",
    "data_point.drop('PersonalLoan', inplace=True)\n",
    "# predict the label\n",
    "prediction = random_forest.predict([data_point])\n",
    "print(f'Predicted Label: {prediction[0]}')"
   ]
  },
  {
   "cell_type": "code",
   "execution_count": null,
   "metadata": {},
   "outputs": [],
   "source": []
  }
 ],
 "metadata": {
  "kernelspec": {
   "display_name": "base",
   "language": "python",
   "name": "python3"
  },
  "language_info": {
   "codemirror_mode": {
    "name": "ipython",
    "version": 3
   },
   "file_extension": ".py",
   "mimetype": "text/x-python",
   "name": "python",
   "nbconvert_exporter": "python",
   "pygments_lexer": "ipython3",
   "version": "3.9.12"
  },
  "orig_nbformat": 4
 },
 "nbformat": 4,
 "nbformat_minor": 2
}
